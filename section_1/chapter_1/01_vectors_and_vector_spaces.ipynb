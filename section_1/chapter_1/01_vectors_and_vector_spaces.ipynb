{
 "cells": [
  {
   "cell_type": "markdown",
   "id": "c5709257",
   "metadata": {},
   "source": [
    "## Definition of Vectors (Column and Row Vectors)\n",
    "\n",
    "In linear algebra, a **vector** is an ordered collection of numbers, which can be visualized as a directed line segment in space. \n",
    "> \"Think of vectors as arrows. These arrows live in a world called **$\\mathbb{R}^n$** — which is fancy math talk for n-dimensional space.\"\n",
    "Formally, a vector in 𝑅<sup>n</sup> is an element of an n-dimensional real coordinate space. Vectors are typically represented in two forms:\n",
    "\n",
    "- **Column Vector**:\n",
    "\n",
    "    $v = \\begin{bmatrix} v_1 \\\\ v_2 \\\\ \\vdots \\\\ v_n \\end{bmatrix} \\in \\mathbb{R}^n$\n",
    "\n",
    "- **Row Vector**:\n",
    "\n",
    "   $v^\\top = \\begin{bmatrix} v_1 & v_2 & \\dots & v_n \\end{bmatrix} \\in \\mathbb{R}^{1 \\times n}$\n",
    "\n",
    "📦 Column vector = Stack of boxes  \n",
    "📏 Row vector = Ruler laid flat\n",
    "\n",
    "In the context of machine learning, column vectors are used to represent feature vectors, weights, and gradients. Understanding the distinction between these forms is crucial for correct matrix multiplication and model parameterization.\n",
    "\n",
    "Whether you're optimizing a neural net or plotting your route in GTA V, **vectors** are everywhere. They're not just numbers — they carry **direction, magnitude, and meaning**. Ready to fire up your math muscles? Let's go \n",
    "\n",
    "```bash\n",
    "We will begin by primarily using NumPy for our code implementations. As we progress, we'll explore and integrate other libraries where they offer significant advantages or are specifically required.\n",
    "```"
   ]
  },
  {
   "cell_type": "code",
   "execution_count": 1,
   "id": "66883d5b",
   "metadata": {},
   "outputs": [
    {
     "name": "stdout",
     "output_type": "stream",
     "text": [
      "Vector: [1, 2, 3]\n"
     ]
    }
   ],
   "source": [
    "import numpy as np  # Library for numerical operations\n",
    "\n",
    "# Defining a vector in 3D space\n",
    "vector = [1, 2, 3]\n",
    "\n",
    "# Printing the vector\n",
    "print(\"Vector:\", vector)"
   ]
  },
  {
   "cell_type": "code",
   "execution_count": null,
   "id": "51977d34",
   "metadata": {},
   "outputs": [],
   "source": []
  },
  {
   "cell_type": "code",
   "execution_count": null,
   "id": "20b38b07",
   "metadata": {},
   "outputs": [],
   "source": []
  },
  {
   "cell_type": "code",
   "execution_count": null,
   "id": "d66e159c",
   "metadata": {},
   "outputs": [],
   "source": []
  },
  {
   "cell_type": "code",
   "execution_count": null,
   "id": "6eb9e832",
   "metadata": {},
   "outputs": [],
   "source": []
  },
  {
   "cell_type": "code",
   "execution_count": null,
   "id": "90159c61",
   "metadata": {},
   "outputs": [],
   "source": []
  },
  {
   "cell_type": "markdown",
   "id": "7c863d3f",
   "metadata": {},
   "source": [
    "## Vector Notation: $\\mathbb{R}^n$\n",
    "\n",
    "The notation $\\mathbb{R}^n$ refers to the **n-dimensional real vector space**, where each vector is a point in n-dimensional Euclidean space with real-number coordinates. For example:\n",
    "\n",
    "* $\\mathbb{R}^2$ is the 2D plane.\n",
    "* $\\mathbb{R}^3$ is 3D space.\n",
    "* $\\mathbb{R}^n$ generalizes this to arbitrary dimensions.\n",
    "\n",
    "If $\\mathbf{v} \\in \\mathbb{R}^n$, then $\\mathbf{v}$ is defined as:\n",
    "\n",
    "$\\mathbf{v} = \\begin{bmatrix} v_1 \\\\ v_2 \\\\ \\vdots \\\\ v_n \\end{bmatrix},\\quad \\text{where } v_i \\in \\mathbb{R}$"
   ]
  },
  {
   "cell_type": "markdown",
   "id": "d61ed583",
   "metadata": {},
   "source": [
    "## Vector Spaces and Linear Combinations\n",
    "\n",
    "A **vector space** over a field $\\mathbb{F}$ (usually $\\mathbb{R}$ or $\\mathbb{C}$) is a set of vectors that is closed under vector addition and scalar multiplication. That is, for any vectors $\\mathbf{u}, \\mathbf{v} \\in V$ and scalar $c \\in \\mathbb{F}$, both:\n",
    "\n",
    "* $\\mathbf{u} + \\mathbf{v} \\in V$\n",
    "* $c\\mathbf{v} \\in V$\n",
    "\n",
    "A **linear combination** of vectors $\\{\\mathbf{v}_1, \\dots, \\mathbf{v}_k\\}$ is any expression of the form:\n",
    "\n",
    "$a_1 \\mathbf{v}_1 + a_2 \\mathbf{v}_2 + \\dots + a_k \\mathbf{v}_k$\n",
    "\n",
    "where $a_i \\in \\mathbb{R}$. The ability to form such combinations defines many important structures in ML, such as hypothesis spaces and activation outputs."
   ]
  },
  {
   "cell_type": "markdown",
   "id": "040c452f",
   "metadata": {},
   "source": [
    "## Basis and Dimensionality\n",
    "\n",
    "A **basis** of a vector space $V$ is a set of vectors $\\{\\mathbf{b}_1, \\dots, \\mathbf{b}_k\\}$ that satisfies two properties:\n",
    "\n",
    "1.  The vectors are **linearly independent**.\n",
    "2.  The vectors **span** the entire space $V$.\n",
    "\n",
    "The **dimension** of $V$ is the number of vectors in its basis, denoted $\\dim(V)$. For example:\n",
    "\n",
    "The standard basis for $\\mathbb{R}^2$ is:\n",
    "\n",
    "$\\left\\{ \\begin{bmatrix} 1 \\\\ 0 \\end{bmatrix}, \\begin{bmatrix} 0 \\\\ 1 \\end{bmatrix} \\right\\}$\n",
    "\n",
    "Any vector $\\mathbf{v} \\in \\mathbb{R}^2$ can be expressed as a unique linear combination of these basis vectors.\n",
    "\n",
    "In ML, the concept of basis connects to principal components in PCA and feature transformation techniques."
   ]
  },
  {
   "cell_type": "markdown",
   "id": "93d588c7",
   "metadata": {},
   "source": [
    "## Span of a Set of Vectors\n",
    "\n",
    "The **span** of a set of vectors $\\{\\mathbf{v}_1, \\dots, \\mathbf{v}_k\\}$ is the collection of all possible linear combinations of those vectors:\n",
    "\n",
    "$\\text{span}\\{\\mathbf{v}_1, \\dots, \\mathbf{v}_k\\} = \\left\\{ \\sum_{i=1}^k a_i \\mathbf{v}_i \\mid a_i \\in \\mathbb{R} \\right\\}$\n",
    "\n",
    "The span defines the subspace formed by the vectors. If the span equals the entire vector space, then the vectors form a basis. This is especially relevant in dimensionality reduction, where we attempt to find lower-dimensional subspaces that approximate the data manifold."
   ]
  },
  {
   "cell_type": "markdown",
   "id": "d936eb73",
   "metadata": {},
   "source": []
  }
 ],
 "metadata": {
  "kernelspec": {
   "display_name": "Python 3",
   "language": "python",
   "name": "python3"
  },
  "language_info": {
   "codemirror_mode": {
    "name": "ipython",
    "version": 3
   },
   "file_extension": ".py",
   "mimetype": "text/x-python",
   "name": "python",
   "nbconvert_exporter": "python",
   "pygments_lexer": "ipython3",
   "version": "3.12.1"
  }
 },
 "nbformat": 4,
 "nbformat_minor": 5
}
